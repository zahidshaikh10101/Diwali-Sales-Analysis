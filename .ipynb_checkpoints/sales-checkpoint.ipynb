{
 "cells": [
  {
   "cell_type": "markdown",
   "id": "43aa987c",
   "metadata": {},
   "source": [
    "### Importing libraries"
   ]
  },
  {
   "cell_type": "code",
   "execution_count": null,
   "id": "45bb6e1d",
   "metadata": {},
   "outputs": [],
   "source": [
    "import numpy as np\n",
    "import pandas as pd\n",
    "import matplotlib.pyplot as plt\n",
    "import seaborn as sns\n",
    "import warnings\n",
    "warnings.filterwarnings('ignore')"
   ]
  },
  {
   "cell_type": "markdown",
   "id": "ed2a0af1",
   "metadata": {},
   "source": [
    "### Importing dataset "
   ]
  },
  {
   "cell_type": "code",
   "execution_count": null,
   "id": "caf5f79f",
   "metadata": {
    "scrolled": true
   },
   "outputs": [],
   "source": [
    "df = pd.read_csv(r'C:\\Users\\hp\\Desktop\\Sales\\Sales.csv',index_col=0,header=0,encoding= 'unicode_escape')\n",
    "df.head()"
   ]
  },
  {
   "cell_type": "markdown",
   "id": "44a16fdf",
   "metadata": {},
   "source": [
    "### Checking shape of dataset"
   ]
  },
  {
   "cell_type": "code",
   "execution_count": null,
   "id": "ab790c71",
   "metadata": {},
   "outputs": [],
   "source": [
    "df.shape"
   ]
  },
  {
   "cell_type": "markdown",
   "id": "31517691",
   "metadata": {},
   "source": [
    "### Checking columns in dataset"
   ]
  },
  {
   "cell_type": "code",
   "execution_count": null,
   "id": "fc53ce21",
   "metadata": {},
   "outputs": [],
   "source": [
    "df.columns"
   ]
  },
  {
   "cell_type": "markdown",
   "id": "19d6e8a9",
   "metadata": {},
   "source": [
    "### Checking details of dataset"
   ]
  },
  {
   "cell_type": "code",
   "execution_count": null,
   "id": "2dcfcb9a",
   "metadata": {},
   "outputs": [],
   "source": [
    "df.info()"
   ]
  },
  {
   "cell_type": "markdown",
   "id": "83a0a7bf",
   "metadata": {},
   "source": [
    "### Dropping unnecessary columns"
   ]
  },
  {
   "cell_type": "code",
   "execution_count": null,
   "id": "a4ba8298",
   "metadata": {},
   "outputs": [],
   "source": [
    "df = df.drop(columns=['Status','unnamed1'])\n",
    "df"
   ]
  },
  {
   "cell_type": "markdown",
   "id": "28f5235b",
   "metadata": {},
   "source": [
    "### Getting statistical insights of data"
   ]
  },
  {
   "cell_type": "code",
   "execution_count": null,
   "id": "2e4eefdb",
   "metadata": {},
   "outputs": [],
   "source": [
    "df.describe()"
   ]
  },
  {
   "cell_type": "markdown",
   "id": "29c379bf",
   "metadata": {},
   "source": [
    "### Checking for null values"
   ]
  },
  {
   "cell_type": "code",
   "execution_count": null,
   "id": "404175df",
   "metadata": {},
   "outputs": [],
   "source": [
    "df.isnull().sum()"
   ]
  },
  {
   "cell_type": "code",
   "execution_count": null,
   "id": "e6fa614e",
   "metadata": {},
   "outputs": [],
   "source": [
    "amount_mean = df['Amount'].mean()\n",
    "amount_median = df['Amount'].median()\n",
    "amount_mode = df['Amount'].mode()[0]\n",
    "print('Mean:',amount_mean)\n",
    "print('Median:',amount_median)\n",
    "print('Mode:',amount_mode)"
   ]
  },
  {
   "cell_type": "code",
   "execution_count": null,
   "id": "55a71916",
   "metadata": {
    "scrolled": true
   },
   "outputs": [],
   "source": [
    "df.boxplot(column = 'Amount')\n",
    "plt.show()"
   ]
  },
  {
   "cell_type": "code",
   "execution_count": null,
   "id": "196880bd",
   "metadata": {
    "scrolled": true
   },
   "outputs": [],
   "source": [
    "df['Amount'].fillna(amount_mean, inplace=True)\n",
    "df.isnull().sum()"
   ]
  },
  {
   "cell_type": "code",
   "execution_count": null,
   "id": "77351c5c",
   "metadata": {},
   "outputs": [],
   "source": [
    "CustomersAge = df['Age']\n",
    "bins = [CustomersAge.min(),15,21,60,CustomersAge.max()]\n",
    "binlabels = ['Children', 'Adolescents', 'Adult', 'Senior']\n",
    "\n",
    "categories = pd.cut(CustomersAge,bins,labels = binlabels)\n",
    "categories.head(20)"
   ]
  },
  {
   "cell_type": "code",
   "execution_count": null,
   "id": "2a87d84f",
   "metadata": {},
   "outputs": [],
   "source": [
    "df['Labelled_Age'] = categories\n",
    "df.tail(20)"
   ]
  },
  {
   "cell_type": "code",
   "execution_count": null,
   "id": "4c0469bc",
   "metadata": {},
   "outputs": [],
   "source": [
    "print(df['Labelled_Age'].isna().sum())\n",
    "print(df.shape)"
   ]
  },
  {
   "cell_type": "code",
   "execution_count": null,
   "id": "45c65a27",
   "metadata": {},
   "outputs": [],
   "source": [
    "df = df.dropna(how='any',subset=['Labelled_Age'])\n",
    "print(df['Labelled_Age'].isna().sum())\n",
    "print(df.shape)"
   ]
  },
  {
   "cell_type": "markdown",
   "id": "9a81c493",
   "metadata": {},
   "source": [
    "### Checking percentage of customers of different age groups"
   ]
  },
  {
   "cell_type": "code",
   "execution_count": null,
   "id": "e201072b",
   "metadata": {},
   "outputs": [],
   "source": [
    "df['Labelled_Age'].value_counts(normalize = True)*100"
   ]
  },
  {
   "cell_type": "code",
   "execution_count": null,
   "id": "9b1a5c93",
   "metadata": {},
   "outputs": [],
   "source": [
    "data = df['Labelled_Age'].value_counts(normalize = True)*100\n",
    "keys = ['Children', 'Adolescents', 'Adult', 'Senior']\n",
    "\n",
    "explode = [0, 0, 0.2, 0] \n",
    "palette_color = sns.color_palette(\"bright\") \n",
    "plt.pie(data, labels=keys, colors=palette_color, explode=explode, autopct='%.0f%%') \n",
    "plt.savefig('test1.png')\n",
    "plt.show()"
   ]
  },
  {
   "cell_type": "code",
   "execution_count": null,
   "id": "a725e347",
   "metadata": {},
   "outputs": [],
   "source": [
    "ax = sns.countplot(data=df,x='Labelled_Age',palette='flare')\n",
    "for bars in ax.containers:\n",
    "    ax.bar_label(bars)\n",
    "plt.savefig('test2.png')\n",
    "plt.show()"
   ]
  },
  {
   "cell_type": "code",
   "execution_count": null,
   "id": "7b9dca0f",
   "metadata": {},
   "outputs": [],
   "source": [
    "ax = sns.countplot(data=df,x='Labelled_Age',palette='viridis',hue='Gender')\n",
    "for bars in ax.containers:\n",
    "    ax.bar_label(bars)\n",
    "plt.savefig('test8.png')\n",
    "plt.show()"
   ]
  },
  {
   "cell_type": "code",
   "execution_count": null,
   "id": "774eb3a9",
   "metadata": {},
   "outputs": [],
   "source": [
    "age_sales = df.groupby(['Labelled_Age'], as_index = False)['Orders'].sum().sort_values(by = 'Orders', ascending = True)\n",
    "\n",
    "ax = sns.barplot(data = age_sales, x = 'Labelled_Age', y = 'Orders', palette='coolwarm')\n",
    "for bars in ax.containers:\n",
    "    ax.bar_label(bars)\n",
    "plt.xticks(rotation = 45)\n",
    "plt.show()"
   ]
  },
  {
   "cell_type": "markdown",
   "id": "d4bde0ff",
   "metadata": {},
   "source": [
    "### Checking number of Males vs Females "
   ]
  },
  {
   "cell_type": "code",
   "execution_count": null,
   "id": "1d0debdd",
   "metadata": {},
   "outputs": [],
   "source": [
    "df['Gender'].value_counts()"
   ]
  },
  {
   "cell_type": "code",
   "execution_count": null,
   "id": "254d6d5d",
   "metadata": {},
   "outputs": [],
   "source": [
    "ax = sns.countplot(data=df,x='Gender',palette='ch:s=.25,rot=-.25')\n",
    "for bars in ax.containers:\n",
    "    ax.bar_label(bars)\n",
    "plt.savefig('test3.png')\n",
    "plt.show()"
   ]
  },
  {
   "cell_type": "code",
   "execution_count": null,
   "id": "1dc0815b",
   "metadata": {},
   "outputs": [],
   "source": [
    "gender_amount = df.groupby(['Gender'], as_index = False)['Amount'].sum().sort_values(by = 'Amount', ascending = True)\n",
    "\n",
    "ax = sns.barplot(data=gender_amount,x='Gender',y='Amount',palette='viridis')\n",
    "plt.savefig('test6.png')\n",
    "plt.show()"
   ]
  },
  {
   "cell_type": "markdown",
   "id": "92622056",
   "metadata": {},
   "source": [
    "### Checking number of orders"
   ]
  },
  {
   "cell_type": "code",
   "execution_count": null,
   "id": "a94c14d8",
   "metadata": {},
   "outputs": [],
   "source": [
    "df['Orders'].value_counts()"
   ]
  },
  {
   "cell_type": "code",
   "execution_count": null,
   "id": "1cfece18",
   "metadata": {},
   "outputs": [],
   "source": [
    "ax = sns.countplot(data=df,x='Orders',palette='blend:#7AB,#EDA')\n",
    "for bars in ax.containers:\n",
    "    ax.bar_label(bars)\n",
    "plt.savefig('test4.png')\n",
    "plt.show()"
   ]
  },
  {
   "cell_type": "markdown",
   "id": "73bbdfa6",
   "metadata": {},
   "source": [
    "### Checking percentage of customers who are married"
   ]
  },
  {
   "cell_type": "code",
   "execution_count": null,
   "id": "f566cd38",
   "metadata": {},
   "outputs": [],
   "source": [
    "df['Marital_Status'].value_counts(normalize = True)*100"
   ]
  },
  {
   "cell_type": "code",
   "execution_count": null,
   "id": "003a3ebf",
   "metadata": {},
   "outputs": [],
   "source": [
    "data = df['Marital_Status'].value_counts(normalize = True)*100\n",
    "keys = [0,1]\n",
    "\n",
    "explode = [0, 0.1] \n",
    "palette_color = sns.color_palette(\"bright\")  \n",
    "plt.pie(data, labels=keys, colors=palette_color, explode=explode, autopct='%.0f%%') \n",
    "plt.show()"
   ]
  },
  {
   "cell_type": "markdown",
   "id": "243e4128",
   "metadata": {},
   "source": [
    "### Checking number of unique Occupation with values counts"
   ]
  },
  {
   "cell_type": "code",
   "execution_count": null,
   "id": "03fb7b88",
   "metadata": {},
   "outputs": [],
   "source": [
    "df['Occupation'].value_counts()"
   ]
  },
  {
   "cell_type": "code",
   "execution_count": null,
   "id": "24334e31",
   "metadata": {},
   "outputs": [],
   "source": [
    "ax = sns.countplot(data=df,x='Occupation',palette='blend:#7AB,#EDA')\n",
    "plt.xticks(rotation=90)\n",
    "for bars in ax.containers:\n",
    "    ax.bar_label(bars)\n",
    "plt.savefig('test5.png')\n",
    "plt.show()"
   ]
  },
  {
   "cell_type": "markdown",
   "id": "91bace1d",
   "metadata": {},
   "source": [
    "### Getting results of customers who works in IT Sector  "
   ]
  },
  {
   "cell_type": "code",
   "execution_count": null,
   "id": "094a97fc",
   "metadata": {},
   "outputs": [],
   "source": [
    "IT = df[df['Occupation'] == 'IT Sector']\n",
    "IT"
   ]
  },
  {
   "cell_type": "markdown",
   "id": "34a19dfe",
   "metadata": {},
   "source": [
    "### Checking number of unique States with values counts"
   ]
  },
  {
   "cell_type": "code",
   "execution_count": null,
   "id": "e91307ab",
   "metadata": {},
   "outputs": [],
   "source": [
    "df['State'].value_counts()"
   ]
  },
  {
   "cell_type": "code",
   "execution_count": null,
   "id": "abf9d1e5",
   "metadata": {},
   "outputs": [],
   "source": [
    "State_sales = df.groupby(['State'], as_index=False)['Orders'].sum().sort_values(by=['Orders'], ascending=False).head(10)\n",
    "\n",
    "ax = sns.barplot(data=State_sales,x='State',y='Orders',palette='blend:#7AB,#EDA')\n",
    "plt.xticks(rotation=90)\n",
    "for bars in ax.containers:\n",
    "    ax.bar_label(bars)\n",
    "plt.savefig('test6.png')\n",
    "plt.show()"
   ]
  },
  {
   "cell_type": "code",
   "execution_count": null,
   "id": "c8348926",
   "metadata": {},
   "outputs": [],
   "source": [
    "State_amount = df.groupby(['State'], as_index=False)['Amount'].sum().sort_values(by=['Amount'], ascending=True).head(10)\n",
    "\n",
    "ax = sns.barplot(data=State_amount,x='State',y='Amount',palette='coolwarm')\n",
    "plt.xticks(rotation=90)\n",
    "plt.savefig('test9.png')\n",
    "plt.show()"
   ]
  },
  {
   "cell_type": "markdown",
   "id": "e0f9da30",
   "metadata": {},
   "source": [
    "### Getting results of customers lives in Maharashtra"
   ]
  },
  {
   "cell_type": "code",
   "execution_count": null,
   "id": "c54cdb44",
   "metadata": {},
   "outputs": [],
   "source": [
    "maharashtra = df[df['State'] == 'Maharashtra']\n",
    "maharashtra"
   ]
  },
  {
   "cell_type": "markdown",
   "id": "d71ae312",
   "metadata": {},
   "source": [
    "### Getting results of customers from Maharashtra and gender should be Male whose age is greater then 22 and are from IT Sector"
   ]
  },
  {
   "cell_type": "code",
   "execution_count": null,
   "id": "f514ba47",
   "metadata": {},
   "outputs": [],
   "source": [
    "mahmaleit = df[(df['State'] == 'Maharashtra')&(df['Gender'] == 'M')&(df['Occupation'] == 'IT Sector')&(df['Age'] >= 22)]\n",
    "mahmaleit"
   ]
  },
  {
   "cell_type": "code",
   "execution_count": null,
   "id": "15463033",
   "metadata": {},
   "outputs": [],
   "source": [
    "Age_gender = pd.crosstab(df['Labelled_Age'],df['Gender'], margins=True, margins_name='Total')\n",
    "Age_gender"
   ]
  },
  {
   "cell_type": "code",
   "execution_count": null,
   "id": "440fd5b8",
   "metadata": {},
   "outputs": [],
   "source": [
    "State_age = pd.crosstab(df['Labelled_Age'],df['State'], margins=True, margins_name='Total')\n",
    "State_age"
   ]
  },
  {
   "cell_type": "code",
   "execution_count": null,
   "id": "5ec5dba7",
   "metadata": {},
   "outputs": [],
   "source": [
    "df.info()"
   ]
  },
  {
   "cell_type": "code",
   "execution_count": null,
   "id": "5207fa62",
   "metadata": {},
   "outputs": [],
   "source": []
  },
  {
   "cell_type": "code",
   "execution_count": null,
   "id": "fa6a5b26",
   "metadata": {},
   "outputs": [],
   "source": []
  },
  {
   "cell_type": "code",
   "execution_count": null,
   "id": "cd4657f7",
   "metadata": {},
   "outputs": [],
   "source": [
    "Sales_occupation = df.groupby(['Product_Category'], as_index=False)['Orders'].sum().sort_values(by='Orders', ascending=True)\n",
    "\n",
    "ax = sns.barplot(data=Sales_occupation, x='Product_Category', y='Orders', palette='coolwarm' )\n",
    "plt.xticks(rotation=90)\n",
    "for bars in ax.containers:\n",
    "    ax.bar_label(bars)\n",
    "plt.savefig('test11.png')\n",
    "plt.show()"
   ]
  },
  {
   "cell_type": "code",
   "execution_count": null,
   "id": "bd4f6c02",
   "metadata": {},
   "outputs": [],
   "source": []
  },
  {
   "cell_type": "code",
   "execution_count": null,
   "id": "ac984c68",
   "metadata": {},
   "outputs": [],
   "source": [
    ".style.set_properties(**{\"background-color\": \"#F3FFFF\",\"color\":\"black\",\"border\": \"2px  solid black\"})"
   ]
  },
  {
   "cell_type": "code",
   "execution_count": null,
   "id": "a7885daf",
   "metadata": {},
   "outputs": [],
   "source": []
  }
 ],
 "metadata": {
  "kernelspec": {
   "display_name": "Python 3 (ipykernel)",
   "language": "python",
   "name": "python3"
  },
  "language_info": {
   "codemirror_mode": {
    "name": "ipython",
    "version": 3
   },
   "file_extension": ".py",
   "mimetype": "text/x-python",
   "name": "python",
   "nbconvert_exporter": "python",
   "pygments_lexer": "ipython3",
   "version": "3.9.13"
  }
 },
 "nbformat": 4,
 "nbformat_minor": 5
}
